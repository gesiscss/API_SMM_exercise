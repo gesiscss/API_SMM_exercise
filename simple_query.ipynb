{
  "cells": [
    {
      "cell_type": "code",
      "source": [
        "api_url <- \"http://mediamonitoring.gesis.org/api/politicians/facebook/posts_by/politicians/2193/?aggregate_by=week\""
      ],
      "outputs": [],
      "execution_count": 1,
      "metadata": {}
    },
    {
      "cell_type": "code",
      "source": [
        "library('httr')\n",
        "library('jsonlite')"
      ],
      "outputs": [],
      "execution_count": 2,
      "metadata": {}
    },
    {
      "cell_type": "code",
      "source": [
        "json_inhalt <- content(GET(api_url), \"text\", encoding=\"UTF-8\")"
      ],
      "outputs": [],
      "execution_count": null,
      "metadata": {
        "collapsed": false,
        "outputHidden": false,
        "inputHidden": false
      }
    },
    {
      "cell_type": "code",
      "source": [
        "ergebnis = as.data.frame(fromJSON(json_inhalt, flatten = TRUE))"
      ],
      "outputs": [
        {
          "output_type": "error",
          "ename": "ERROR",
          "evalue": "Error in is.response(x): package 'curl' was installed by an R version with different internals; it needs to be reinstalled for use with this R version\n",
          "traceback": [
            "Error in is.response(x): package 'curl' was installed by an R version with different internals; it needs to be reinstalled for use with this R version\nTraceback:\n",
            "1. as.data.frame(fromJSON(content(GET(api_url), \"text\", encoding = \"UTF-8\"), \n .     flatten = TRUE))",
            "2. fromJSON(content(GET(api_url), \"text\", encoding = \"UTF-8\"), flatten = TRUE)",
            "3. content(GET(api_url), \"text\", encoding = \"UTF-8\")",
            "4. stopifnot(is.response(x))",
            "5. withCallingHandlers(tryCatch(if (missE) ...elt(i) else eval(cl.i, \n .     envir = envir), error = function(e) {\n .     e$call <- cl.i\n .     stop(e)\n . }), warning = function(w) {\n .     w$call <- cl.i\n .     w\n . })",
            "6. tryCatch(if (missE) ...elt(i) else eval(cl.i, envir = envir), \n .     error = function(e) {\n .         e$call <- cl.i\n .         stop(e)\n .     })",
            "7. tryCatchList(expr, classes, parentenv, handlers)",
            "8. tryCatchOne(expr, names, parentenv, handlers[[1L]])",
            "9. value[[3L]](cond)"
          ]
        }
      ],
      "execution_count": 3,
      "metadata": {}
    },
    {
      "cell_type": "code",
      "source": [
        "ergebnis"
      ],
      "outputs": [
        {
          "output_type": "error",
          "ename": "ERROR",
          "evalue": "Error in eval(expr, envir, enclos): Objekt 'ergebnis' nicht gefunden\n",
          "traceback": [
            "Error in eval(expr, envir, enclos): Objekt 'ergebnis' nicht gefunden\nTraceback:\n"
          ]
        }
      ],
      "execution_count": 4,
      "metadata": {
        "scrolled": true
      }
    },
    {
      "cell_type": "code",
      "source": [
        "write.csv(ergebnis,\"ergebnis.csv\", row.names = FALSE)"
      ],
      "outputs": [],
      "execution_count": 11,
      "metadata": {}
    },
    {
      "cell_type": "code",
      "source": [
        "save(ergebnis,file=\"ergebnis.Rda\")"
      ],
      "outputs": [],
      "execution_count": null,
      "metadata": {}
    }
  ],
  "metadata": {
    "kernelspec": {
      "name": "ir",
      "language": "R",
      "display_name": "R"
    },
    "language_info": {
      "name": "R",
      "codemirror_mode": "r",
      "pygments_lexer": "r",
      "mimetype": "text/x-r-source",
      "file_extension": ".r",
      "version": "3.5.1"
    },
    "kernel_info": {
      "name": "ir"
    },
    "nteract": {
      "version": "0.15.0"
    }
  },
  "nbformat": 4,
  "nbformat_minor": 2
}